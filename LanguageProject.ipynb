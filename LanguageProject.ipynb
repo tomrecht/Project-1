{
 "cells": [
  {
   "cell_type": "code",
   "execution_count": 6,
   "metadata": {},
   "outputs": [],
   "source": [
    "# Dependencies\n",
    "from census import Census\n",
    "import pandas as pd\n",
    "# Census API Key\n",
    "census_api_key = \"85ac64b6b5a9c0901b00329d1ef41f0c53ccfc98\"\n"
   ]
  },
  {
   "cell_type": "code",
   "execution_count": 7,
   "metadata": {},
   "outputs": [],
   "source": []
  },
  {
   "cell_type": "code",
   "execution_count": 11,
   "metadata": {},
   "outputs": [
    {
     "name": "stdout",
     "output_type": "stream",
     "text": [
      "Something went wrong in year 2019\n"
     ]
    }
   ],
   "source": [
    "for year in range(2009,2020):\n",
    "    c = Census(census_api_key, year=year)\n",
    "    try:\n",
    "        census_data = c.acs5.get((\"NAME\", \"B16001_002E\", \"B16001_003E\", \"B16001_009E\",\n",
    "                              \"B16001_021E\",\"B16001_009E\",\"B16001_012E\",\n",
    "                              \"B16001_015E\",\n",
    "                                      \"B16001_018E\",\"B16001_030E\",\"B16001_033E\",\"B16001_036E\",\"B16001_039E\",\n",
    "                                      \"B16001_045E\",\n",
    "                                      \"B16001_048E\",\n",
    "                                      \"B16001_051E\",\n",
    "                                      \"B16001_054E\",\n",
    "                                      \"B16001_057E\",\n",
    "                                      \"B16001_066E\",\n",
    "                                      \"B16001_069E\",\n",
    "                                      \"B16001_072E\",\n",
    "                                      \"B16001_075E\",\n",
    "                                      \"B16001_078E\",\n",
    "                                      \"B16001_081E\",\n",
    "                                      \"B16001_084E\",\n",
    "                                      \"B16001_087E\",\n",
    "                                      \"B16001_093E\",\n",
    "                                      \"B16001_099E\",\n",
    "                                      \"B16001_105E\",\n",
    "                                      \"B16001_108E\",\n",
    "                                      \"B16001_111E\"\n",
    "                         \n",
    "                                 ), {'for': 'state:*'})\n",
    "    except:\n",
    "        print(\"Something went wrong in year\", year)\n",
    "    census_pd = pd.DataFrame(census_data)\n",
    "    census_pd = census_pd.rename(columns={\"B16001_002E\":\"English only\", \n",
    "                                      \"B16001_003E\":\"Spanish\", \n",
    "                                      \"B16001_009E\":\"French\",\n",
    "                                      \"B16001_021E\":\"Yiddish\",\n",
    "                                      \"B16001_009E\": \"French Creole\",\n",
    "                                      \"B16001_012E\": \"Italian\",\n",
    "                                      \"B16001_015E\": \"Portuguese\",\n",
    "                                      \"B16001_018E\": \"German\",\n",
    "                                      \"B16001_030E\": \"Greek\",\n",
    "                                      \"B16001_033E\": \"Russian\",\n",
    "                                      \"B16001_036E\": \"Polish\",\n",
    "                                      \"B16001_039E\": \"Serbo-Croatian\",\n",
    "                                      \"B16001_045E\": \"Armenian\",\n",
    "                                      \"B16001_048E\": \"Persian\",\n",
    "                                      \"B16001_051E\": \"Gujarati\",\n",
    "                                      \"B16001_054E\": \"Hindi\",\n",
    "                                      \"B16001_057E\": \"Urdu\",\n",
    "                                      \"B16001_066E\": \"Chinese\",\n",
    "                                      \"B16001_069E\": \"Japanese\",\n",
    "                                      \"B16001_072E\": \"Korean\",\n",
    "                                      \"B16001_075E\": \"Mon-Khmer\",\n",
    "                                      \"B16001_078E\": \"Hmong\",\n",
    "                                      \"B16001_081E\": \"Thai\",\n",
    "                                      \"B16001_084E\": \"Laotian\",\n",
    "                                      \"B16001_087E\": \"Vietnamese\",\n",
    "                                      \"B16001_093E\": \"Tagalog\",\n",
    "                                      \"B16001_099E\": \"Navajo\",\n",
    "                                      \"B16001_105E\": \"Hungarian\",\n",
    "                                      \"B16001_108E\": \"Arabic\",\n",
    "                                      \"B16001_111E\": \"Hebrew\",\n",
    "                                      \"NAME\": \"Name\", \"zip code tabulation area\": \"Zipcode\"})\n",
    "    census_pd.to_csv(str(year)+\".csv\", index = False, header = True)"
   ]
  },
  {
   "cell_type": "code",
   "execution_count": null,
   "metadata": {},
   "outputs": [],
   "source": []
  }
 ],
 "metadata": {
  "kernelspec": {
   "display_name": "Python 3",
   "language": "python",
   "name": "python3"
  },
  "language_info": {
   "codemirror_mode": {
    "name": "ipython",
    "version": 3
   },
   "file_extension": ".py",
   "mimetype": "text/x-python",
   "name": "python",
   "nbconvert_exporter": "python",
   "pygments_lexer": "ipython3",
   "version": "3.7.4"
  }
 },
 "nbformat": 4,
 "nbformat_minor": 2
}
